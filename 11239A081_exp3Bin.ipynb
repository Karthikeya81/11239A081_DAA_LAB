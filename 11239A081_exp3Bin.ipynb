{
  "nbformat": 4,
  "nbformat_minor": 0,
  "metadata": {
    "colab": {
      "provenance": [],
      "authorship_tag": "ABX9TyOxbfsHTdxx4QxfGDBAKMj8",
      "include_colab_link": true
    },
    "kernelspec": {
      "name": "python3",
      "display_name": "Python 3"
    },
    "language_info": {
      "name": "python"
    }
  },
  "cells": [
    {
      "cell_type": "markdown",
      "metadata": {
        "id": "view-in-github",
        "colab_type": "text"
      },
      "source": [
        "<a href=\"https://colab.research.google.com/github/Karthikeya81/11239A081_DAA_LAB/blob/main/11239A081_exp3Bin.ipynb\" target=\"_parent\"><img src=\"https://colab.research.google.com/assets/colab-badge.svg\" alt=\"Open In Colab\"/></a>"
      ]
    },
    {
      "cell_type": "code",
      "source": [
        "def first_fit(items, bin_capacity):\n",
        "    bins = []\n",
        "    for item in items:\n",
        "        placed = False\n",
        "        for i in range(len(bins)):\n",
        "            if bins[i] + item <= bin_capacity:\n",
        "                bins[i] += item\n",
        "                placed = True\n",
        "                break\n",
        "        if not placed:\n",
        "            bins.append(item)\n",
        "    return bins\n",
        "\n",
        "def best_fit(items, bin_capacity):\n",
        "    bins = []\n",
        "    for item in items:\n",
        "        min_space = bin_capacity + 1\n",
        "        index = -1\n",
        "        for i in range(len(bins)):\n",
        "            space_left = bin_capacity - bins[i]\n",
        "            if 0 < space_left >= item < min_space:\n",
        "                min_space = space_left\n",
        "                index = i\n",
        "        if index != -1:\n",
        "            bins[index] += item\n",
        "        else:\n",
        "            bins.append(item)\n",
        "    return bins\n",
        "\n",
        "def first_fit_decreasing(items, bin_capacity):\n",
        "    sorted_items = sorted(items, reverse=True)\n",
        "    return first_fit(sorted_items, bin_capacity)\n",
        "\n",
        "def best_fit_decreasing(items, bin_capacity):\n",
        "    sorted_items = sorted(items, reverse=True)\n",
        "    return best_fit(sorted_items, bin_capacity)\n",
        "\n",
        "\n",
        "if __name__ == \"__main__\":\n",
        "    items = [4, 8, 1, 4, 2, 1, 10, 5, 3]\n",
        "    bin_capacity = 10\n",
        "\n",
        "    print(\"Items:\", items)\n",
        "    print(\"Bin Capacity:\", bin_capacity)\n",
        "\n",
        ""
      ],
      "metadata": {
        "colab": {
          "base_uri": "https://localhost:8080/"
        },
        "id": "1vQWEfy8m-NF",
        "outputId": "32d34422-40b8-4721-d00a-036b626afe08"
      },
      "execution_count": 4,
      "outputs": [
        {
          "output_type": "stream",
          "name": "stdout",
          "text": [
            "Items: [4, 8, 1, 4, 2, 1, 10, 5, 3]\n",
            "Bin Capacity: 10\n"
          ]
        }
      ]
    }
  ]
}