{
  "nbformat": 4,
  "nbformat_minor": 0,
  "metadata": {
    "colab": {
      "provenance": [],
      "authorship_tag": "ABX9TyPZy8ulwDchvGQNOTZKp3t4",
      "include_colab_link": true
    },
    "kernelspec": {
      "name": "python3",
      "display_name": "Python 3"
    },
    "language_info": {
      "name": "python"
    }
  },
  "cells": [
    {
      "cell_type": "markdown",
      "metadata": {
        "id": "view-in-github",
        "colab_type": "text"
      },
      "source": [
        "<a href=\"https://colab.research.google.com/github/Karthikeya81/11239A081_DAA_LAB/blob/main/11239A081_exp2(b)Fib.ipynb\" target=\"_parent\"><img src=\"https://colab.research.google.com/assets/colab-badge.svg\" alt=\"Open In Colab\"/></a>"
      ]
    },
    {
      "cell_type": "code",
      "execution_count": null,
      "metadata": {
        "id": "xwCBgBnLjQFj"
      },
      "outputs": [],
      "source": []
    },
    {
      "source": [
        "def fibonacci_iterative(n):\n",
        "\n",
        "\n",
        "\n",
        "    a, b = 0, 1\n",
        "\n",
        "\n",
        "    fibonacci_sequence = []\n",
        "\n",
        "    for _ in range(n):\n",
        "        fibonacci_sequence.append(a)\n",
        "\n",
        "        a, b = b, a + b\n",
        "\n",
        "\n",
        "    return fibonacci_sequence\n",
        "\n",
        "\n",
        "num_terms = int(input(\"Enter the number of terms: \"))\n",
        "\n",
        "\n",
        "fibonacci_sequence = fibonacci_iterative(num_terms)\n",
        "print(\"Fibonacci Sequence:\", fibonacci_sequence)"
      ],
      "cell_type": "code",
      "metadata": {
        "colab": {
          "base_uri": "https://localhost:8080/"
        },
        "id": "pklcu_SWj7IA",
        "outputId": "f05994cd-5592-41ec-da73-cc02dcd943fa"
      },
      "execution_count": 1,
      "outputs": [
        {
          "output_type": "stream",
          "name": "stdout",
          "text": [
            "Enter the number of terms: 5\n",
            "Fibonacci Sequence: [0, 1, 1, 2, 3]\n"
          ]
        }
      ]
    }
  ]
}