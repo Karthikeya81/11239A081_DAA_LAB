{
  "nbformat": 4,
  "nbformat_minor": 0,
  "metadata": {
    "colab": {
      "provenance": [],
      "authorship_tag": "ABX9TyP/lPxplr14ZNLMA2FZV60H",
      "include_colab_link": true
    },
    "kernelspec": {
      "name": "python3",
      "display_name": "Python 3"
    },
    "language_info": {
      "name": "python"
    }
  },
  "cells": [
    {
      "cell_type": "markdown",
      "metadata": {
        "id": "view-in-github",
        "colab_type": "text"
      },
      "source": [
        "<a href=\"https://colab.research.google.com/github/Karthikeya81/11239A081_DAA_LAB/blob/main/11239A081_exp10.ipynb\" target=\"_parent\"><img src=\"https://colab.research.google.com/assets/colab-badge.svg\" alt=\"Open In Colab\"/></a>"
      ]
    },
    {
      "cell_type": "code",
      "execution_count": 1,
      "metadata": {
        "colab": {
          "base_uri": "https://localhost:8080/"
        },
        "id": "CIjhNPGkIi8v",
        "outputId": "552c5749-43ff-4595-9887-cc17300d5407"
      },
      "outputs": [
        {
          "output_type": "stream",
          "name": "stdout",
          "text": [
            "Approximate Vertex Cover: {0, 1, 2, 3}\n"
          ]
        }
      ],
      "source": [
        "def vertex_cover_approximation(graph):\n",
        "\n",
        "    vertex_cover = set()\n",
        "    covered_edges = set()\n",
        "\n",
        "\n",
        "    for u in graph:\n",
        "        for v in graph[u]:\n",
        "\n",
        "            edge = (min(u, v), max(u, v))\n",
        "\n",
        "            if edge not in covered_edges:\n",
        "\n",
        "                vertex_cover.add(u)\n",
        "                vertex_cover.add(v)\n",
        "\n",
        "\n",
        "                for neighbor in graph[u]:\n",
        "                    covered_edges.add((min(u, neighbor), max(u, neighbor)))\n",
        "                for neighbor in graph[v]:\n",
        "                    covered_edges.add((min(v, neighbor), max(v, neighbor)))\n",
        "\n",
        "    return vertex_cover\n",
        "\n",
        "if __name__ == \"__main__\":\n",
        "\n",
        "    graph = {\n",
        "        0: {1, 2},\n",
        "        1: {0, 2, 3},\n",
        "        2: {0, 1, 3},\n",
        "        3: {1, 2}\n",
        "    }\n",
        "\n",
        "    vertex_cover = vertex_cover_approximation(graph)\n",
        "    print(\"Approximate Vertex Cover:\", vertex_cover)\n"
      ]
    }
  ]
}