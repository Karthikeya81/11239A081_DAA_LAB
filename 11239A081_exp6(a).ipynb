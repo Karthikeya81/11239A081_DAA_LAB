{
  "nbformat": 4,
  "nbformat_minor": 0,
  "metadata": {
    "colab": {
      "provenance": [],
      "authorship_tag": "ABX9TyOfQwXxpTBdEOMqo9lxlSg3",
      "include_colab_link": true
    },
    "kernelspec": {
      "name": "python3",
      "display_name": "Python 3"
    },
    "language_info": {
      "name": "python"
    }
  },
  "cells": [
    {
      "cell_type": "markdown",
      "metadata": {
        "id": "view-in-github",
        "colab_type": "text"
      },
      "source": [
        "<a href=\"https://colab.research.google.com/github/Karthikeya81/11239A081_DAA_LAB/blob/main/11239A081_exp6(a).ipynb\" target=\"_parent\"><img src=\"https://colab.research.google.com/assets/colab-badge.svg\" alt=\"Open In Colab\"/></a>"
      ]
    },
    {
      "cell_type": "code",
      "source": [
        "import heapq\n",
        "\n",
        "def prims_algorithm(graph, start_node):\n",
        "\n",
        "    num_nodes = len(graph)\n",
        "    mst_weight = 0\n",
        "    mst_edges = []\n",
        "    visited = [False] * num_nodes\n",
        "    priority_queue = [(0, start_node, None)]\n",
        "\n",
        "    while priority_queue:\n",
        "        weight, current_node, parent_node = heapq.heappop(priority_queue)\n",
        "\n",
        "        if visited[current_node]:\n",
        "            continue\n",
        "\n",
        "        visited[current_node] = True\n",
        "        mst_weight += weight\n",
        "\n",
        "        if parent_node is not None:\n",
        "            mst_edges.append((parent_node, current_node, weight))\n",
        "\n",
        "        for neighbor, edge_weight in graph[current_node]:\n",
        "            if not visited[neighbor]:\n",
        "                heapq.heappush(priority_queue, (edge_weight, neighbor, current_node))\n",
        "\n",
        "    return mst_weight, mst_edges\n",
        "\n",
        "\n",
        "graph = {\n",
        "    0: [(1, 4), (2, 1)],\n",
        "    1: [(0, 4), (2, 3), (3, 2)],\n",
        "    2: [(0, 1), (1, 3), (3, 5)],\n",
        "    3: [(1, 2), (2, 5)]\n",
        "}\n",
        "\n",
        "start_node = 0\n",
        "mst_weight, mst_edges = prims_algorithm(graph, start_node)\n",
        "\n",
        "print(\"Minimum Spanning Tree Edges:\")\n",
        "for u, v, weight in mst_edges:\n",
        "    print(f\"Edge: {u} - {v}, Weight: {weight}\")\n",
        "\n",
        "print(\"\\nTotal Weight of MST:\", mst_weight)"
      ],
      "metadata": {
        "colab": {
          "base_uri": "https://localhost:8080/"
        },
        "id": "WK-T9los4wE7",
        "outputId": "1dff0fea-e764-4d52-b61d-64cea5823ea9"
      },
      "execution_count": 3,
      "outputs": [
        {
          "output_type": "stream",
          "name": "stdout",
          "text": [
            "Minimum Spanning Tree Edges:\n",
            "Edge: 0 - 2, Weight: 1\n",
            "Edge: 2 - 1, Weight: 3\n",
            "Edge: 1 - 3, Weight: 2\n",
            "\n",
            "Total Weight of MST: 6\n"
          ]
        }
      ]
    }
  ]
}