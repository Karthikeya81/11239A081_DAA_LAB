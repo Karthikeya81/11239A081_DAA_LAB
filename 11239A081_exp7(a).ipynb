{
  "nbformat": 4,
  "nbformat_minor": 0,
  "metadata": {
    "colab": {
      "provenance": [],
      "authorship_tag": "ABX9TyP31VnNNW9eHnl0bDK3ZE+6",
      "include_colab_link": true
    },
    "kernelspec": {
      "name": "python3",
      "display_name": "Python 3"
    },
    "language_info": {
      "name": "python"
    }
  },
  "cells": [
    {
      "cell_type": "markdown",
      "metadata": {
        "id": "view-in-github",
        "colab_type": "text"
      },
      "source": [
        "<a href=\"https://colab.research.google.com/github/Karthikeya81/11239A081_DAA_LAB/blob/main/11239A081_exp7(a).ipynb\" target=\"_parent\"><img src=\"https://colab.research.google.com/assets/colab-badge.svg\" alt=\"Open In Colab\"/></a>"
      ]
    },
    {
      "cell_type": "code",
      "execution_count": 1,
      "metadata": {
        "colab": {
          "base_uri": "https://localhost:8080/"
        },
        "id": "PedkXIwE7TCF",
        "outputId": "96d0260c-a105-4cb5-893a-c7561ce7cc9a"
      },
      "outputs": [
        {
          "output_type": "stream",
          "name": "stdout",
          "text": [
            "Enter the number of nodes in the graph: 6\n",
            "Enter the number of edges: 9\n",
            "Enter the edges (node1, node2, weight) for each edge:\n",
            "0 1 7\n",
            "0 2 9\n",
            "0 5 14\n",
            "1 2 10\n",
            "1 3 15\n",
            "2 3 11\n",
            "2 5 2\n",
            "3 4 6 \n",
            "4 5 9\n",
            "Enter the source node: 0\n",
            "\n",
            "Shortest distances from source node 0\n",
            "Node 0: 0\n",
            "Node 1: 7\n",
            "Node 2: 9\n",
            "Node 3: 20\n",
            "Node 4: 26\n",
            "Node 5: 11\n",
            "\n",
            "Shortest paths from source node 0\n",
            "Path to node 0: 0\n",
            "Path to node 1: 0 -> 1\n",
            "Path to node 2: 0 -> 2\n",
            "Path to node 3: 0 -> 2 -> 3\n",
            "Path to node 4: 0 -> 2 -> 3 -> 4\n",
            "Path to node 5: 0 -> 2 -> 5\n"
          ]
        }
      ],
      "source": [
        "import heapq\n",
        "\n",
        "def dijkstra(graph, source):\n",
        "\n",
        "\n",
        "    n = len(graph)\n",
        "\n",
        "\n",
        "    dist = {node: float('inf') for node in graph}\n",
        "    dist[source] = 0\n",
        "\n",
        "\n",
        "    prev = {node: None for node in graph}\n",
        "\n",
        "\n",
        "    pq = [(0, source)]\n",
        "\n",
        "    while pq:\n",
        "\n",
        "        current_dist, current_node = heapq.heappop(pq)\n",
        "\n",
        "\n",
        "        if current_dist > dist[current_node]:\n",
        "            continue\n",
        "\n",
        "\n",
        "        for neighbor, weight in graph[current_node]:\n",
        "            new_dist = current_dist + weight\n",
        "            if new_dist < dist[neighbor]:\n",
        "                dist[neighbor] = new_dist\n",
        "                prev[neighbor] = current_node\n",
        "                heapq.heappush(pq, (new_dist, neighbor))\n",
        "\n",
        "    return dist, prev\n",
        "\n",
        "def get_shortest_path(prev, target):\n",
        "\n",
        "    path = []\n",
        "    while target is not None:\n",
        "        path.append(target)\n",
        "        target = prev[target]\n",
        "    return path[::-1]\n",
        "\n",
        "def get_input():\n",
        "\n",
        "    n = int(input(\"Enter the number of nodes in the graph: \"))\n",
        "    m = int(input(\"Enter the number of edges: \"))\n",
        "\n",
        "\n",
        "    graph = {i: [] for i in range(n)}\n",
        "\n",
        "    print(\"Enter the edges (node1, node2, weight) for each edge:\")\n",
        "    for _ in range(m):\n",
        "        u, v, weight = map(int, input().split())\n",
        "        graph[u].append((v, weight))\n",
        "\n",
        "\n",
        "    source = int(input(\"Enter the source node: \"))\n",
        "\n",
        "    return graph, source\n",
        "\n",
        "\n",
        "if __name__ == \"__main__\":\n",
        "    graph, source = get_input()\n",
        "    dist, prev = dijkstra(graph, source)\n",
        "\n",
        "\n",
        "    print(\"\\nShortest distances from source node\", source)\n",
        "    for node in dist:\n",
        "        print(f\"Node {node}: {dist[node]}\")\n",
        "\n",
        "\n",
        "    print(\"\\nShortest paths from source node\", source)\n",
        "    for node in dist:\n",
        "        path = get_shortest_path(prev, node)\n",
        "        print(f\"Path to node {node}: {' -> '.join(map(str, path))}\")\n"
      ]
    }
  ]
}