{
  "nbformat": 4,
  "nbformat_minor": 0,
  "metadata": {
    "colab": {
      "provenance": [],
      "authorship_tag": "ABX9TyNnynpchKqU9SnscNVCd12v",
      "include_colab_link": true
    },
    "kernelspec": {
      "name": "python3",
      "display_name": "Python 3"
    },
    "language_info": {
      "name": "python"
    }
  },
  "cells": [
    {
      "cell_type": "markdown",
      "metadata": {
        "id": "view-in-github",
        "colab_type": "text"
      },
      "source": [
        "<a href=\"https://colab.research.google.com/github/Karthikeya81/11239A081_DAA_LAB/blob/main/11239A081_exp6(b).ipynb\" target=\"_parent\"><img src=\"https://colab.research.google.com/assets/colab-badge.svg\" alt=\"Open In Colab\"/></a>"
      ]
    },
    {
      "cell_type": "code",
      "execution_count": 1,
      "metadata": {
        "colab": {
          "base_uri": "https://localhost:8080/"
        },
        "id": "aDknZ_iQ5PKn",
        "outputId": "a914e0eb-cc68-47b7-9158-249358b2cc31"
      },
      "outputs": [
        {
          "output_type": "stream",
          "name": "stdout",
          "text": [
            "Enter the number of nodes in the graph: 4\n",
            "Enter the number of edges: 5\n",
            "Enter the edges (node1, node2, weight) for each edge:\n",
            "0 1 10\n",
            "0 2 6\n",
            "0 3 5\n",
            "1 3 15\n",
            "2 3 4\n",
            "\n",
            "Minimum Spanning Tree (MST) edges:\n",
            "Edge: 2 - 3 with weight 4\n",
            "Edge: 0 - 3 with weight 5\n",
            "Edge: 0 - 1 with weight 10\n",
            "\n",
            "Total weight of MST: 19\n"
          ]
        }
      ],
      "source": [
        "class DisjointSet:\n",
        "    def __init__(self, n):\n",
        "\n",
        "        self.parent = list(range(n))\n",
        "        self.rank = [0] * n\n",
        "\n",
        "    def find(self, u):\n",
        "        if self.parent[u] != u:\n",
        "\n",
        "            self.parent[u] = self.find(self.parent[u])\n",
        "        return self.parent[u]\n",
        "\n",
        "    def union(self, u, v):\n",
        "\n",
        "        root_u = self.find(u)\n",
        "        root_v = self.find(v)\n",
        "\n",
        "        if root_u != root_v:\n",
        "\n",
        "            if self.rank[root_u] > self.rank[root_v]:\n",
        "                self.parent[root_v] = root_u\n",
        "            elif self.rank[root_u] < self.rank[root_v]:\n",
        "                self.parent[root_u] = root_v\n",
        "            else:\n",
        "                self.parent[root_v] = root_u\n",
        "                self.rank[root_u] += 1\n",
        "            return True\n",
        "        return False\n",
        "\n",
        "def kruskal_algorithm(n, edges):\n",
        "\n",
        "    edges.sort(key=lambda edge: edge[2])\n",
        "\n",
        "\n",
        "    dsu = DisjointSet(n)\n",
        "\n",
        "    mst_edges = []\n",
        "    mst_weight = 0\n",
        "\n",
        "    for u, v, weight in edges:\n",
        "\n",
        "        if dsu.union(u, v):\n",
        "            mst_edges.append((u, v, weight))\n",
        "            mst_weight += weight\n",
        "\n",
        "    return mst_weight, mst_edges\n",
        "\n",
        "def get_input():\n",
        "\n",
        "    n = int(input(\"Enter the number of nodes in the graph: \"))\n",
        "    m = int(input(\"Enter the number of edges: \"))\n",
        "\n",
        "\n",
        "    edges = []\n",
        "\n",
        "    print(\"Enter the edges (node1, node2, weight) for each edge:\")\n",
        "    for _ in range(m):\n",
        "        u, v, weight = map(int, input().split())\n",
        "        edges.append((u, v, weight))\n",
        "\n",
        "    return n, edges\n",
        "\n",
        "\n",
        "if __name__ == \"__main__\":\n",
        "    n, edges = get_input()\n",
        "    mst_weight, mst_edges = kruskal_algorithm(n, edges)\n",
        "\n",
        "    print(\"\\nMinimum Spanning Tree (MST) edges:\")\n",
        "    for u, v, weight in mst_edges:\n",
        "        print(f\"Edge: {u} - {v} with weight {weight}\")\n",
        "\n",
        "    print(\"\\nTotal weight of MST:\", mst_weight)\n"
      ]
    }
  ]
}