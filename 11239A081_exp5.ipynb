{
  "nbformat": 4,
  "nbformat_minor": 0,
  "metadata": {
    "colab": {
      "provenance": [],
      "authorship_tag": "ABX9TyPxhBeu4klWJczH+zLvC193",
      "include_colab_link": true
    },
    "kernelspec": {
      "name": "python3",
      "display_name": "Python 3"
    },
    "language_info": {
      "name": "python"
    }
  },
  "cells": [
    {
      "cell_type": "markdown",
      "metadata": {
        "id": "view-in-github",
        "colab_type": "text"
      },
      "source": [
        "<a href=\"https://colab.research.google.com/github/Karthikeya81/11239A081_DAA_LAB/blob/main/11239A081_exp5.ipynb\" target=\"_parent\"><img src=\"https://colab.research.google.com/assets/colab-badge.svg\" alt=\"Open In Colab\"/></a>"
      ]
    },
    {
      "cell_type": "code",
      "execution_count": 3,
      "metadata": {
        "colab": {
          "base_uri": "https://localhost:8080/"
        },
        "id": "BbGOnRMJsell",
        "outputId": "d8ce2016-71b5-4f60-94d3-1dbba4081736"
      },
      "outputs": [
        {
          "output_type": "stream",
          "name": "stdout",
          "text": [
            "Minimum Cost: 80\n",
            "Tour Order: [0, 0, 2, 3, 1]\n"
          ]
        }
      ],
      "source": [
        "import sys\n",
        "\n",
        "def tsp(dist):\n",
        "    n = len(dist)\n",
        "\n",
        "    dp = [[sys.maxsize] * n for _ in range(1 << n)]\n",
        "\n",
        "    path = [[-1] * n for _ in range(1 << n)]\n",
        "\n",
        "\n",
        "    dp[1][0] = 0\n",
        "\n",
        "\n",
        "    for mask in range(1 << n):\n",
        "        for u in range(n):\n",
        "            if (mask & (1 << u)) == 0:\n",
        "                continue\n",
        "            for v in range(n):\n",
        "                if mask & (1 << v):\n",
        "                    continue\n",
        "                new_mask = mask | (1 << v)\n",
        "                cost = dp[mask][u] + dist[u][v]\n",
        "                if cost < dp[new_mask][v]:\n",
        "                    dp[new_mask][v] = cost\n",
        "                    path[new_mask][v] = u\n",
        "\n",
        "\n",
        "    min_cost = sys.maxsize\n",
        "    last_city = -1\n",
        "    full_mask = (1 << n) - 1\n",
        "    for i in range(1, n):\n",
        "        if dp[full_mask][i] + dist[i][0] < min_cost:\n",
        "            min_cost = dp[full_mask][i] + dist[i][0]\n",
        "            last_city = i\n",
        "\n",
        "\n",
        "    tour = []\n",
        "    mask = full_mask\n",
        "    while last_city != -1:\n",
        "        tour.append(last_city)\n",
        "        next_city = path[mask][last_city]\n",
        "        mask ^= (1 << last_city)\n",
        "        last_city = next_city\n",
        "\n",
        "    tour.append(0)\n",
        "    tour.reverse()\n",
        "\n",
        "    return min_cost, tour\n",
        "\n",
        "#Example\n",
        "dist = [\n",
        "    [0, 10, 15, 20],\n",
        "    [10, 0, 35, 25],\n",
        "    [15, 35, 0, 30],\n",
        "    [20, 25, 30, 0]\n",
        "]\n",
        "\n",
        "min_cost, tour = tsp(dist)\n",
        "print(\"Minimum Cost:\", min_cost)\n",
        "print(\"Tour Order:\", tour)\n"
      ]
    }
  ]
}