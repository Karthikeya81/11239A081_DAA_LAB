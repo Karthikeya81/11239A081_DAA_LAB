{
  "nbformat": 4,
  "nbformat_minor": 0,
  "metadata": {
    "colab": {
      "provenance": [],
      "authorship_tag": "ABX9TyMqqfyI9DIXhhoyMYMbe0G0",
      "include_colab_link": true
    },
    "kernelspec": {
      "name": "python3",
      "display_name": "Python 3"
    },
    "language_info": {
      "name": "python"
    }
  },
  "cells": [
    {
      "cell_type": "markdown",
      "metadata": {
        "id": "view-in-github",
        "colab_type": "text"
      },
      "source": [
        "<a href=\"https://colab.research.google.com/github/Karthikeya81/11239A081_DAA_LAB/blob/main/11239A081_exp9.ipynb\" target=\"_parent\"><img src=\"https://colab.research.google.com/assets/colab-badge.svg\" alt=\"Open In Colab\"/></a>"
      ]
    },
    {
      "cell_type": "code",
      "execution_count": 1,
      "metadata": {
        "colab": {
          "base_uri": "https://localhost:8080/"
        },
        "id": "ngVjiqAiFw7U",
        "outputId": "a9c00ee5-6e30-488f-85b3-a4772a4f835d"
      },
      "outputs": [
        {
          "output_type": "stream",
          "name": "stdout",
          "text": [
            "Original array: [10, 7, 8, 9, 1, 5]\n",
            "Sorted array: [1, 5, 7, 8, 9, 10]\n"
          ]
        }
      ],
      "source": [
        "import random\n",
        "\n",
        "def partition(arr, low, high):\n",
        "\n",
        "    pivot_index = random.randint(low, high)\n",
        "    arr[pivot_index], arr[high] = arr[high], arr[pivot_index]\n",
        "\n",
        "    pivot = arr[high]\n",
        "    i = low - 1\n",
        "\n",
        "\n",
        "    for j in range(low, high):\n",
        "        if arr[j] < pivot:\n",
        "            i += 1\n",
        "            arr[i], arr[j] = arr[j], arr[i]\n",
        "\n",
        "    arr[i + 1], arr[high] = arr[high], arr[i + 1]\n",
        "    return i + 1\n",
        "def randomized_quick_sort(arr, low, high):\n",
        "\n",
        "    if low < high:\n",
        "\n",
        "        pivot_index = partition(arr, low, high)\n",
        "\n",
        "\n",
        "        randomized_quick_sort(arr, low, pivot_index - 1)\n",
        "        randomized_quick_sort(arr, pivot_index + 1, high)\n",
        "\n",
        "def quick_sort(arr):\n",
        "\n",
        "    randomized_quick_sort(arr, 0, len(arr) - 1)\n",
        "\n",
        "# Example usage\n",
        "if __name__ == \"__main__\":\n",
        "    arr = [10, 7, 8, 9, 1, 5]\n",
        "    print(\"Original array:\", arr)\n",
        "\n",
        "    quick_sort(arr)\n",
        "\n",
        "    print(\"Sorted array:\", arr)\n"
      ]
    }
  ]
}