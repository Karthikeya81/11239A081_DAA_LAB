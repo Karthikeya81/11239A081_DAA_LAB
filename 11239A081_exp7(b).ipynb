{
  "nbformat": 4,
  "nbformat_minor": 0,
  "metadata": {
    "colab": {
      "provenance": [],
      "authorship_tag": "ABX9TyPtqwwJRdgHsGdVs56d4d+H",
      "include_colab_link": true
    },
    "kernelspec": {
      "name": "python3",
      "display_name": "Python 3"
    },
    "language_info": {
      "name": "python"
    }
  },
  "cells": [
    {
      "cell_type": "markdown",
      "metadata": {
        "id": "view-in-github",
        "colab_type": "text"
      },
      "source": [
        "<a href=\"https://colab.research.google.com/github/Karthikeya81/11239A081_DAA_LAB/blob/main/11239A081_exp7(b).ipynb\" target=\"_parent\"><img src=\"https://colab.research.google.com/assets/colab-badge.svg\" alt=\"Open In Colab\"/></a>"
      ]
    },
    {
      "cell_type": "code",
      "source": [
        "def floyd_warshall(graph, n):\n",
        "\n",
        "\n",
        "    dist = [[graph[i][j] for j in range(n)] for i in range(n)]\n",
        "\n",
        "\n",
        "    for k in range(n):\n",
        "        for i in range(n):\n",
        "            for j in range(n):\n",
        "\n",
        "                if dist[i][j] > dist[i][k] + dist[k][j]:\n",
        "                    dist[i][j] = dist[i][k] + dist[k][j]\n",
        "\n",
        "    return dist\n",
        "\n",
        "def get_input():\n",
        "\n",
        "    n = int(input(\"Enter the number of vertices in the graph: \"))\n",
        "\n",
        "\n",
        "    graph = []\n",
        "\n",
        "    print(\"Enter the adjacency matrix (row by row):\")\n",
        "    print(\"For no path, enter 'inf' (or any large number representing infinity).\")\n",
        "\n",
        "    for i in range(n):\n",
        "\n",
        "        row = input(f\"Enter row {i+1}: \").split()\n",
        "\n",
        "\n",
        "        for j in range(n):\n",
        "            if row[j].lower() == 'inf':\n",
        "                row[j] = float('inf')\n",
        "            else:\n",
        "                row[j] = int(row[j])\n",
        "\n",
        "        graph.append(row)\n",
        "\n",
        "    return graph, n\n",
        "\n",
        "def print_matrix(matrix):\n",
        "\n",
        "    print(\"\\nDistance Matrix (Shortest Distances between all pairs of vertices):\")\n",
        "    for row in matrix:\n",
        "        print(\" \".join([f\"{x if x != float('inf') else '∞':>7}\" for x in row]))\n",
        "\n",
        "\n",
        "if __name__ == \"__main__\":\n",
        "    graph, n = get_input()\n",
        "    dist = floyd_warshall(graph, n)\n",
        "    print_matrix(dist)\n"
      ],
      "metadata": {
        "colab": {
          "base_uri": "https://localhost:8080/"
        },
        "id": "EaGj57c1B3DZ",
        "outputId": "7d2053b2-1927-48a2-b5e5-f16d0db8e1da"
      },
      "execution_count": 2,
      "outputs": [
        {
          "output_type": "stream",
          "name": "stdout",
          "text": [
            "Enter the number of vertices in the graph: 4\n",
            "Enter the adjacency matrix (row by row):\n",
            "For no path, enter 'inf' (or any large number representing infinity).\n",
            "Enter row 1: 0 3 inf 7\n",
            "Enter row 2: inf 0 5 inf\n",
            "Enter row 3: inf inf 0 1\n",
            "Enter row 4: inf inf inf 0\n",
            "\n",
            "Distance Matrix (Shortest Distances between all pairs of vertices):\n",
            "      0       3       8       7\n",
            "      ∞       0       5       6\n",
            "      ∞       ∞       0       1\n",
            "      ∞       ∞       ∞       0\n"
          ]
        }
      ]
    }
  ]
}