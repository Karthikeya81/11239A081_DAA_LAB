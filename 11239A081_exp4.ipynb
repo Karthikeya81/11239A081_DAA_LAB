{
  "nbformat": 4,
  "nbformat_minor": 0,
  "metadata": {
    "colab": {
      "provenance": [],
      "authorship_tag": "ABX9TyM/1ZfxKu/jop66hj6OUUra",
      "include_colab_link": true
    },
    "kernelspec": {
      "name": "python3",
      "display_name": "Python 3"
    },
    "language_info": {
      "name": "python"
    }
  },
  "cells": [
    {
      "cell_type": "markdown",
      "metadata": {
        "id": "view-in-github",
        "colab_type": "text"
      },
      "source": [
        "<a href=\"https://colab.research.google.com/github/Karthikeya81/11239A081_DAA_LAB/blob/main/11239A081_exp4.ipynb\" target=\"_parent\"><img src=\"https://colab.research.google.com/assets/colab-badge.svg\" alt=\"Open In Colab\"/></a>"
      ]
    },
    {
      "cell_type": "code",
      "execution_count": 2,
      "metadata": {
        "colab": {
          "base_uri": "https://localhost:8080/"
        },
        "id": "XCxFkXPinq8j",
        "outputId": "80bef645-2580-4d14-b332-44f7bdec9d58"
      },
      "outputs": [
        {
          "output_type": "stream",
          "name": "stdout",
          "text": [
            "Maximum value that can be carried in the knapsack: 240.0\n"
          ]
        }
      ],
      "source": [
        "\n",
        "class Item:\n",
        "    def __init__(self, value, weight):\n",
        "        self.value = value\n",
        "        self.weight = weight\n",
        "        self.ratio = value / weight\n",
        "\n",
        "\n",
        "def fractional_knapsack(capacity, items):\n",
        "\n",
        "    items.sort(key=lambda x: x.ratio, reverse=True)\n",
        "\n",
        "    total_value = 0\n",
        "    remaining_capacity = capacity\n",
        "\n",
        "    for item in items:\n",
        "        if remaining_capacity == 0:\n",
        "            break\n",
        "\n",
        "\n",
        "        if item.weight <= remaining_capacity:\n",
        "            total_value += item.value\n",
        "            remaining_capacity -= item.weight\n",
        "        else:\n",
        "\n",
        "            total_value += item.value * (remaining_capacity / item.weight)\n",
        "            remaining_capacity = 0\n",
        "\n",
        "    return total_value\n",
        "\n",
        "\n",
        "if __name__ == \"__main__\":\n",
        "\n",
        "    items = [\n",
        "        Item(60, 10),\n",
        "        Item(100, 20),\n",
        "        Item(120, 30),\n",
        "    ]\n",
        "\n",
        "    capacity = 50\n",
        "\n",
        "    max_value = fractional_knapsack(capacity, items)\n",
        "    print(f\"Maximum value that can be carried in the knapsack: {max_value}\")\n"
      ]
    }
  ]
}